{
 "cells": [
  {
   "cell_type": "markdown",
   "metadata": {
    "editable": true,
    "slideshow": {
     "slide_type": "slide"
    },
    "tags": []
   },
   "source": [
    "# 1-9 Vector Space Models"
   ]
  },
  {
   "cell_type": "code",
   "execution_count": 1,
   "metadata": {
    "editable": true,
    "slideshow": {
     "slide_type": "fragment"
    },
    "tags": []
   },
   "outputs": [],
   "source": [
    "# IMPORTS\n",
    "from pathlib import Path\n",
    "from sklearn.feature_extraction.text import CountVectorizer\n",
    "import pandas as pd\n",
    "import numpy as np\n",
    "import matplotlib.pyplot as plt\n",
    "\n",
    "# Set plt parameters\n",
    "plt.rcParams['figure.dpi'] = 300\n",
    "plt.rcParams[\"figure.figsize\"] = (10,5)"
   ]
  },
  {
   "cell_type": "code",
   "execution_count": 2,
   "metadata": {},
   "outputs": [
    {
     "name": "stdout",
     "output_type": "stream",
     "text": [
      "Henry VI 1.txt: < Shakespeare -- THE\n",
      "Richard II.txt: < Shakespeare -- THE\n",
      "Henry VI 2.txt: < Shakespeare -- THE\n",
      "Henry V.txt: < Shakespeare -- THE\n",
      "Henry VI 3.txt: < Shakespeare -- THE\n",
      "John.txt: < Shakespeare -- THE\n",
      "Henry VIII.txt: \n",
      "< Shakespeare -- TH\n",
      "Richard III.txt: < Shakespeare -- THE\n",
      "Henry IV 2.txt: < Shakespeare -- THE\n",
      "Henry IV 1.txt: < Shakespeare -- THE\n"
     ]
    }
   ],
   "source": [
    "# To see a list of all the files\n",
    "# for p in Path('../data/shakespeare').glob('**/*.txt'):\n",
    "#     print(f\"{p.name}\\n\")\n",
    "\n",
    "# by subdirectory\n",
    "for p in Path('../data/shakespeare/histories/').glob('*.txt'):\n",
    "    with open(p, mode=\"r\", encoding=\"utf-16\") as f:\n",
    "        print(f\"{p.name}: {f.read()[0:20]}\")"
   ]
  },
  {
   "cell_type": "code",
   "execution_count": 3,
   "metadata": {},
   "outputs": [
    {
     "name": "stdout",
     "output_type": "stream",
     "text": [
      "10\n",
      "< Shakespeare -- THE FIRST PART OF KING HENRY VI >\n",
      "< from Online Library of Liberty (http://oll.libe\n"
     ]
    }
   ],
   "source": [
    "# Create a list of strings\n",
    "\n",
    "histories = []\n",
    "for i in Path('../data/shakespeare/histories/').glob('*.txt'):\n",
    "    with open(i, mode=\"r\", encoding=\"utf-16\") as f:\n",
    "        contents = f.read()\n",
    "        histories.append(contents)\n",
    "\n",
    "# One way to check\n",
    "print(len(histories))\n",
    "\n",
    "# Inspect file contents \n",
    "print(histories[0][0:100])"
   ]
  },
  {
   "cell_type": "code",
   "execution_count": 4,
   "metadata": {},
   "outputs": [
    {
     "name": "stdout",
     "output_type": "stream",
     "text": [
      "Comedies: 17, Tragedies 10\n"
     ]
    }
   ],
   "source": [
    "# We could write a function, but we are only doing this two more times...\n",
    "\n",
    "tragedies = []\n",
    "for i in Path('../data/shakespeare/tragedies/').glob('*.txt'):\n",
    "    with open(p, mode=\"r\", encoding=\"utf-16\") as f:\n",
    "        contents = f.read()\n",
    "        tragedies.append(contents)\n",
    "\n",
    "comedies = []\n",
    "for i in Path('../data/shakespeare/comedies/').glob('*.txt'):\n",
    "    with open(i, mode=\"r\", encoding=\"utf-16\") as f:\n",
    "        contents = f.read()\n",
    "        comedies.append(contents)\n",
    "\n",
    "print(f\"Comedies: {len(comedies)}, Tragedies {len(tragedies)}\")"
   ]
  },
  {
   "cell_type": "code",
   "execution_count": 5,
   "metadata": {},
   "outputs": [
    {
     "name": "stdout",
     "output_type": "stream",
     "text": [
      "We have a <class 'list'> of 37 texts.\n"
     ]
    }
   ],
   "source": [
    "plays = histories + tragedies + comedies\n",
    "print(f\"We have a {type(plays)} of {len(plays)} texts.\")"
   ]
  },
  {
   "cell_type": "code",
   "execution_count": 9,
   "metadata": {},
   "outputs": [
    {
     "data": {
      "text/plain": [
       "(37, 11491)"
      ]
     },
     "execution_count": 9,
     "metadata": {},
     "output_type": "execute_result"
    }
   ],
   "source": [
    "# Vectorize our texts while removing function words\n",
    "# and words that occur in only one text\n",
    "vectorizer = CountVectorizer(lowercase = True,\n",
    "                             min_df = 2,\n",
    "                             stop_words='english')\n",
    "\n",
    "# fit the model to the data \n",
    "matrix = vectorizer.fit_transform(plays)\n",
    "\n",
    "# We'll need these later\n",
    "vocabulary = vectorizer.get_feature_names_out()\n",
    "\n",
    "# see how many features we have\n",
    "matrix.shape"
   ]
  },
  {
   "cell_type": "code",
   "execution_count": 10,
   "metadata": {},
   "outputs": [
    {
     "data": {
      "text/html": [
       "<div>\n",
       "<style scoped>\n",
       "    .dataframe tbody tr th:only-of-type {\n",
       "        vertical-align: middle;\n",
       "    }\n",
       "\n",
       "    .dataframe tbody tr th {\n",
       "        vertical-align: top;\n",
       "    }\n",
       "\n",
       "    .dataframe thead th {\n",
       "        text-align: right;\n",
       "    }\n",
       "</style>\n",
       "<table border=\"1\" class=\"dataframe\">\n",
       "  <thead>\n",
       "    <tr style=\"text-align: right;\">\n",
       "      <th></th>\n",
       "      <th>10</th>\n",
       "      <th>100</th>\n",
       "      <th>11</th>\n",
       "      <th>12</th>\n",
       "      <th>13</th>\n",
       "      <th>14</th>\n",
       "      <th>15</th>\n",
       "      <th>16</th>\n",
       "      <th>17</th>\n",
       "      <th>18</th>\n",
       "      <th>...</th>\n",
       "      <th>youngest</th>\n",
       "      <th>younker</th>\n",
       "      <th>youth</th>\n",
       "      <th>youthful</th>\n",
       "      <th>youths</th>\n",
       "      <th>zeal</th>\n",
       "      <th>zealous</th>\n",
       "      <th>zounds</th>\n",
       "      <th>æneas</th>\n",
       "      <th>æsculapius</th>\n",
       "    </tr>\n",
       "  </thead>\n",
       "  <tbody>\n",
       "    <tr>\n",
       "      <th>0</th>\n",
       "      <td>6</td>\n",
       "      <td>2</td>\n",
       "      <td>11</td>\n",
       "      <td>8</td>\n",
       "      <td>8</td>\n",
       "      <td>9</td>\n",
       "      <td>8</td>\n",
       "      <td>7</td>\n",
       "      <td>5</td>\n",
       "      <td>4</td>\n",
       "      <td>...</td>\n",
       "      <td>0</td>\n",
       "      <td>0</td>\n",
       "      <td>5</td>\n",
       "      <td>3</td>\n",
       "      <td>0</td>\n",
       "      <td>0</td>\n",
       "      <td>0</td>\n",
       "      <td>0</td>\n",
       "      <td>0</td>\n",
       "      <td>0</td>\n",
       "    </tr>\n",
       "    <tr>\n",
       "      <th>1</th>\n",
       "      <td>4</td>\n",
       "      <td>0</td>\n",
       "      <td>5</td>\n",
       "      <td>6</td>\n",
       "      <td>3</td>\n",
       "      <td>7</td>\n",
       "      <td>2</td>\n",
       "      <td>4</td>\n",
       "      <td>5</td>\n",
       "      <td>6</td>\n",
       "      <td>...</td>\n",
       "      <td>0</td>\n",
       "      <td>0</td>\n",
       "      <td>6</td>\n",
       "      <td>2</td>\n",
       "      <td>0</td>\n",
       "      <td>2</td>\n",
       "      <td>0</td>\n",
       "      <td>0</td>\n",
       "      <td>0</td>\n",
       "      <td>0</td>\n",
       "    </tr>\n",
       "    <tr>\n",
       "      <th>2</th>\n",
       "      <td>10</td>\n",
       "      <td>2</td>\n",
       "      <td>3</td>\n",
       "      <td>13</td>\n",
       "      <td>5</td>\n",
       "      <td>3</td>\n",
       "      <td>17</td>\n",
       "      <td>7</td>\n",
       "      <td>12</td>\n",
       "      <td>10</td>\n",
       "      <td>...</td>\n",
       "      <td>1</td>\n",
       "      <td>0</td>\n",
       "      <td>5</td>\n",
       "      <td>0</td>\n",
       "      <td>0</td>\n",
       "      <td>1</td>\n",
       "      <td>0</td>\n",
       "      <td>0</td>\n",
       "      <td>2</td>\n",
       "      <td>0</td>\n",
       "    </tr>\n",
       "    <tr>\n",
       "      <th>3</th>\n",
       "      <td>1</td>\n",
       "      <td>0</td>\n",
       "      <td>3</td>\n",
       "      <td>3</td>\n",
       "      <td>3</td>\n",
       "      <td>0</td>\n",
       "      <td>10</td>\n",
       "      <td>10</td>\n",
       "      <td>13</td>\n",
       "      <td>13</td>\n",
       "      <td>...</td>\n",
       "      <td>0</td>\n",
       "      <td>0</td>\n",
       "      <td>8</td>\n",
       "      <td>0</td>\n",
       "      <td>0</td>\n",
       "      <td>1</td>\n",
       "      <td>0</td>\n",
       "      <td>0</td>\n",
       "      <td>0</td>\n",
       "      <td>0</td>\n",
       "    </tr>\n",
       "    <tr>\n",
       "      <th>4</th>\n",
       "      <td>14</td>\n",
       "      <td>3</td>\n",
       "      <td>10</td>\n",
       "      <td>9</td>\n",
       "      <td>8</td>\n",
       "      <td>10</td>\n",
       "      <td>1</td>\n",
       "      <td>8</td>\n",
       "      <td>5</td>\n",
       "      <td>3</td>\n",
       "      <td>...</td>\n",
       "      <td>1</td>\n",
       "      <td>1</td>\n",
       "      <td>4</td>\n",
       "      <td>1</td>\n",
       "      <td>0</td>\n",
       "      <td>1</td>\n",
       "      <td>0</td>\n",
       "      <td>0</td>\n",
       "      <td>0</td>\n",
       "      <td>0</td>\n",
       "    </tr>\n",
       "  </tbody>\n",
       "</table>\n",
       "<p>5 rows × 11491 columns</p>\n",
       "</div>"
      ],
      "text/plain": [
       "   10  100  11  12  13  14  15  16  17  18  ...  youngest  younker  youth  \\\n",
       "0   6    2  11   8   8   9   8   7   5   4  ...         0        0      5   \n",
       "1   4    0   5   6   3   7   2   4   5   6  ...         0        0      6   \n",
       "2  10    2   3  13   5   3  17   7  12  10  ...         1        0      5   \n",
       "3   1    0   3   3   3   0  10  10  13  13  ...         0        0      8   \n",
       "4  14    3  10   9   8  10   1   8   5   3  ...         1        1      4   \n",
       "\n",
       "   youthful  youths  zeal  zealous  zounds  æneas  æsculapius  \n",
       "0         3       0     0        0       0      0           0  \n",
       "1         2       0     2        0       0      0           0  \n",
       "2         0       0     1        0       0      2           0  \n",
       "3         0       0     1        0       0      0           0  \n",
       "4         1       0     1        0       0      0           0  \n",
       "\n",
       "[5 rows x 11491 columns]"
      ]
     },
     "execution_count": 10,
     "metadata": {},
     "output_type": "execute_result"
    }
   ],
   "source": [
    "# Convert to a dataframe\n",
    "df = pd.DataFrame(matrix.toarray(), \n",
    "                  columns = vectorizer.get_feature_names_out())\n",
    "\n",
    "df.head()"
   ]
  },
  {
   "cell_type": "markdown",
   "metadata": {},
   "source": [
    "It would be nice to have titles to go with these rows.\n",
    "\n",
    "Please note that like above, since we are only doing this three times and we want to make sure the order is the same as above, then "
   ]
  },
  {
   "cell_type": "code",
   "execution_count": 11,
   "metadata": {},
   "outputs": [
    {
     "name": "stdout",
     "output_type": "stream",
     "text": [
      "37 ['Henry VI 1', 'Richard II']\n"
     ]
    }
   ],
   "source": [
    "titles= []\n",
    "\n",
    "for p in Path('../data/shakespeare/histories/').glob('*.txt'):\n",
    "    with open(p, mode=\"r\", encoding=\"utf-16\") as f:\n",
    "        title = p.name[:-4]\n",
    "        titles.append(title)\n",
    "\n",
    "for p in Path('../data/shakespeare/tragedies/').glob('*.txt'):\n",
    "    with open(p, mode=\"r\", encoding=\"utf-16\") as f:\n",
    "        title = p.name[:-4]\n",
    "        titles.append(title)\n",
    "\n",
    "for p in Path('../data/shakespeare/comedies/').glob('*.txt'):\n",
    "    with open(p, mode=\"r\", encoding=\"utf-16\") as f:\n",
    "        title = p.name[:-4]\n",
    "        titles.append(title)\n",
    "\n",
    "print(len(titles), titles[0:2])"
   ]
  },
  {
   "cell_type": "markdown",
   "metadata": {},
   "source": [
    "But what I really want is to capture both the title of the play as well as its genre."
   ]
  },
  {
   "cell_type": "code",
   "execution_count": 12,
   "metadata": {},
   "outputs": [],
   "source": [
    "def genremator(folder):\n",
    "    titles =[]\n",
    "    for p in Path('../data/shakespeare/'+folder+'/').glob('*.txt'):\n",
    "        with open(p, mode=\"r\", encoding=\"utf-16\") as f:\n",
    "            title = p.name[:-4]\n",
    "            titles.append(title)\n",
    "    genre = [folder] * len(titles)\n",
    "    gandt = [(x, y) for x, y in zip(genre, titles)] \n",
    "    return gandt"
   ]
  },
  {
   "cell_type": "code",
   "execution_count": 14,
   "metadata": {},
   "outputs": [
    {
     "name": "stdout",
     "output_type": "stream",
     "text": [
      "[('histories', 'Henry VI 1'), ('histories', 'Richard II'), ('histories', 'Henry VI 2'), ('histories', 'Henry V'), ('histories', 'Henry VI 3'), ('histories', 'John'), ('histories', 'Henry VIII'), ('histories', 'Richard III'), ('histories', 'Henry IV 2'), ('histories', 'Henry IV 1')]\n",
      "[('tragedies', 'Julius Caesar'), ('tragedies', 'Coriolanus'), ('tragedies', 'King Lear'), ('tragedies', 'Titus Andronicus'), ('tragedies', 'Timon of Athens'), ('tragedies', 'Othello, the Moor of Venice'), ('tragedies', 'Anthony and Cleopatra'), ('tragedies', 'Macbeth'), ('tragedies', 'Romeo And Juliet'), ('tragedies', 'Hamlet, Prince of Denmark')]\n",
      "[('comedies', 'Winter’s Tale'), ('comedies', 'As You Like It'), ('comedies', 'Tempest'), ('comedies', 'Cymbeline'), ('comedies', 'Troilus and Cressida'), ('comedies', 'Twelfth-Night'), ('comedies', 'Loves Labours Lost'), ('comedies', 'Alls Well that Ends Well'), ('comedies', 'Much Ado About Nothing'), ('comedies', 'Pericles'), ('comedies', 'Two Gentlemen of Verona'), ('comedies', 'Merchant Of Venice'), ('comedies', 'Merry Wives of Windsor'), ('comedies', 'Midsummer-Nights Dream'), ('comedies', 'Comedy of Errors'), ('comedies', 'Taming of the Shrew'), ('comedies', 'Measure for Measure')]\n"
     ]
    }
   ],
   "source": [
    "hist = genremator(\"histories\")\n",
    "print(hist)\n",
    "\n",
    "trag = genremator(\"tragedies\")\n",
    "print(trag)\n",
    "\n",
    "com = genremator(\"comedies\")\n",
    "print(com)"
   ]
  },
  {
   "cell_type": "code",
   "execution_count": 15,
   "metadata": {},
   "outputs": [],
   "source": [
    "genre_titles = hist + trag + com"
   ]
  },
  {
   "cell_type": "code",
   "execution_count": 16,
   "metadata": {},
   "outputs": [],
   "source": [
    "genres, titles = [list(t) for t in zip(*genre_titles)] "
   ]
  },
  {
   "cell_type": "code",
   "execution_count": 17,
   "metadata": {},
   "outputs": [],
   "source": [
    "df[\"genre\"], df[\"title\"] = genres, titles"
   ]
  },
  {
   "cell_type": "code",
   "execution_count": 18,
   "metadata": {},
   "outputs": [
    {
     "data": {
      "text/html": [
       "<div>\n",
       "<style scoped>\n",
       "    .dataframe tbody tr th:only-of-type {\n",
       "        vertical-align: middle;\n",
       "    }\n",
       "\n",
       "    .dataframe tbody tr th {\n",
       "        vertical-align: top;\n",
       "    }\n",
       "\n",
       "    .dataframe thead th {\n",
       "        text-align: right;\n",
       "    }\n",
       "</style>\n",
       "<table border=\"1\" class=\"dataframe\">\n",
       "  <thead>\n",
       "    <tr style=\"text-align: right;\">\n",
       "      <th></th>\n",
       "      <th>10</th>\n",
       "      <th>100</th>\n",
       "      <th>11</th>\n",
       "      <th>12</th>\n",
       "      <th>13</th>\n",
       "      <th>14</th>\n",
       "      <th>15</th>\n",
       "      <th>16</th>\n",
       "      <th>17</th>\n",
       "      <th>18</th>\n",
       "      <th>...</th>\n",
       "      <th>younker</th>\n",
       "      <th>youth</th>\n",
       "      <th>youthful</th>\n",
       "      <th>youths</th>\n",
       "      <th>zeal</th>\n",
       "      <th>zealous</th>\n",
       "      <th>zounds</th>\n",
       "      <th>æneas</th>\n",
       "      <th>æsculapius</th>\n",
       "      <th>genre</th>\n",
       "    </tr>\n",
       "  </thead>\n",
       "  <tbody>\n",
       "    <tr>\n",
       "      <th>0</th>\n",
       "      <td>6</td>\n",
       "      <td>2</td>\n",
       "      <td>11</td>\n",
       "      <td>8</td>\n",
       "      <td>8</td>\n",
       "      <td>9</td>\n",
       "      <td>8</td>\n",
       "      <td>7</td>\n",
       "      <td>5</td>\n",
       "      <td>4</td>\n",
       "      <td>...</td>\n",
       "      <td>0</td>\n",
       "      <td>5</td>\n",
       "      <td>3</td>\n",
       "      <td>0</td>\n",
       "      <td>0</td>\n",
       "      <td>0</td>\n",
       "      <td>0</td>\n",
       "      <td>0</td>\n",
       "      <td>0</td>\n",
       "      <td>histories</td>\n",
       "    </tr>\n",
       "    <tr>\n",
       "      <th>1</th>\n",
       "      <td>4</td>\n",
       "      <td>0</td>\n",
       "      <td>5</td>\n",
       "      <td>6</td>\n",
       "      <td>3</td>\n",
       "      <td>7</td>\n",
       "      <td>2</td>\n",
       "      <td>4</td>\n",
       "      <td>5</td>\n",
       "      <td>6</td>\n",
       "      <td>...</td>\n",
       "      <td>0</td>\n",
       "      <td>6</td>\n",
       "      <td>2</td>\n",
       "      <td>0</td>\n",
       "      <td>2</td>\n",
       "      <td>0</td>\n",
       "      <td>0</td>\n",
       "      <td>0</td>\n",
       "      <td>0</td>\n",
       "      <td>histories</td>\n",
       "    </tr>\n",
       "    <tr>\n",
       "      <th>2</th>\n",
       "      <td>10</td>\n",
       "      <td>2</td>\n",
       "      <td>3</td>\n",
       "      <td>13</td>\n",
       "      <td>5</td>\n",
       "      <td>3</td>\n",
       "      <td>17</td>\n",
       "      <td>7</td>\n",
       "      <td>12</td>\n",
       "      <td>10</td>\n",
       "      <td>...</td>\n",
       "      <td>0</td>\n",
       "      <td>5</td>\n",
       "      <td>0</td>\n",
       "      <td>0</td>\n",
       "      <td>1</td>\n",
       "      <td>0</td>\n",
       "      <td>0</td>\n",
       "      <td>2</td>\n",
       "      <td>0</td>\n",
       "      <td>histories</td>\n",
       "    </tr>\n",
       "    <tr>\n",
       "      <th>3</th>\n",
       "      <td>1</td>\n",
       "      <td>0</td>\n",
       "      <td>3</td>\n",
       "      <td>3</td>\n",
       "      <td>3</td>\n",
       "      <td>0</td>\n",
       "      <td>10</td>\n",
       "      <td>10</td>\n",
       "      <td>13</td>\n",
       "      <td>13</td>\n",
       "      <td>...</td>\n",
       "      <td>0</td>\n",
       "      <td>8</td>\n",
       "      <td>0</td>\n",
       "      <td>0</td>\n",
       "      <td>1</td>\n",
       "      <td>0</td>\n",
       "      <td>0</td>\n",
       "      <td>0</td>\n",
       "      <td>0</td>\n",
       "      <td>histories</td>\n",
       "    </tr>\n",
       "    <tr>\n",
       "      <th>4</th>\n",
       "      <td>14</td>\n",
       "      <td>3</td>\n",
       "      <td>10</td>\n",
       "      <td>9</td>\n",
       "      <td>8</td>\n",
       "      <td>10</td>\n",
       "      <td>1</td>\n",
       "      <td>8</td>\n",
       "      <td>5</td>\n",
       "      <td>3</td>\n",
       "      <td>...</td>\n",
       "      <td>1</td>\n",
       "      <td>4</td>\n",
       "      <td>1</td>\n",
       "      <td>0</td>\n",
       "      <td>1</td>\n",
       "      <td>0</td>\n",
       "      <td>0</td>\n",
       "      <td>0</td>\n",
       "      <td>0</td>\n",
       "      <td>histories</td>\n",
       "    </tr>\n",
       "  </tbody>\n",
       "</table>\n",
       "<p>5 rows × 11492 columns</p>\n",
       "</div>"
      ],
      "text/plain": [
       "   10  100  11  12  13  14  15  16  17  18  ...  younker  youth  youthful  \\\n",
       "0   6    2  11   8   8   9   8   7   5   4  ...        0      5         3   \n",
       "1   4    0   5   6   3   7   2   4   5   6  ...        0      6         2   \n",
       "2  10    2   3  13   5   3  17   7  12  10  ...        0      5         0   \n",
       "3   1    0   3   3   3   0  10  10  13  13  ...        0      8         0   \n",
       "4  14    3  10   9   8  10   1   8   5   3  ...        1      4         1   \n",
       "\n",
       "   youths  zeal  zealous  zounds  æneas  æsculapius      genre  \n",
       "0       0     0        0       0      0           0  histories  \n",
       "1       0     2        0       0      0           0  histories  \n",
       "2       0     1        0       0      2           0  histories  \n",
       "3       0     1        0       0      0           0  histories  \n",
       "4       0     1        0       0      0           0  histories  \n",
       "\n",
       "[5 rows x 11492 columns]"
      ]
     },
     "execution_count": 18,
     "metadata": {},
     "output_type": "execute_result"
    }
   ],
   "source": [
    "df.head()"
   ]
  },
  {
   "cell_type": "code",
   "execution_count": 19,
   "metadata": {},
   "outputs": [
    {
     "data": {
      "image/png": "[encoded data removed]",
      "text/plain": [
       "<Figure size 3000x1500 with 1 Axes>"
      ]
     },
     "metadata": {},
     "output_type": "display_data"
    }
   ],
   "source": [
    "cmap = {\"histories\":\"darkred\", \"tragedies\":\"cyan\",\"comedies\":\"seagreen\"}\n",
    "ax = df.plot(kind=\"scatter\", \n",
    "             x=\"blood\",\n",
    "             y=\"sirrah\", \n",
    "             c=[cmap.get(c, 'black') for c in df.genre])\n",
    "# ax.legend()\n",
    "\n",
    "plt.show()"
   ]
  },
  {
   "cell_type": "markdown",
   "metadata": {},
   "source": [
    "<div class=\"alert alert-block alert-success\">\n",
    "For the above with a legend, try the following:\n",
    "<code>\n",
    "# Plot\n",
    "fig, ax = plt.subplots()\n",
    "ax.margins(0.05) # Optional, just adds 5% padding to the autoscaling\n",
    "for name, group in groups:\n",
    "    ax.plot(group.x, group.y, marker='o', linestyle='', ms=12, label=name)\n",
    "ax.legend()\n",
    "plt.show()\n",
    "</code>\n",
    "</div>"
   ]
  },
  {
   "cell_type": "markdown",
   "metadata": {},
   "source": [
    "<div class=\"alert alert-block alert-info\">\n",
    "<p>Here's how to get the average of a column by group:<br/>\n",
    "<code>df.groupby(['group_col'])['value_col'].mean()</code></p>\n",
    "</div>"
   ]
  },
  {
   "cell_type": "code",
   "execution_count": 20,
   "metadata": {},
   "outputs": [
    {
     "data": {
      "text/plain": [
       "genre\n",
       "comedies      9.882353\n",
       "histories    31.500000\n",
       "tragedies    25.000000\n",
       "Name: blood, dtype: float64"
      ]
     },
     "execution_count": 20,
     "metadata": {},
     "output_type": "execute_result"
    }
   ],
   "source": [
    "df.groupby(['genre'])['blood'].mean()"
   ]
  },
  {
   "cell_type": "code",
   "execution_count": 21,
   "metadata": {},
   "outputs": [
    {
     "data": {
      "text/plain": [
       "genre\n",
       "comedies      4.117647\n",
       "histories     4.100000\n",
       "tragedies    11.000000\n",
       "Name: sirrah, dtype: float64"
      ]
     },
     "execution_count": 21,
     "metadata": {},
     "output_type": "execute_result"
    }
   ],
   "source": [
    "df.groupby(['genre'])['sirrah'].mean()"
   ]
  },
  {
   "cell_type": "code",
   "execution_count": 22,
   "metadata": {},
   "outputs": [
    {
     "data": {
      "image/png": "[encoded data removed]",
      "text/plain": [
       "<Figure size 3000x1500 with 1 Axes>"
      ]
     },
     "metadata": {},
     "output_type": "display_data"
    }
   ],
   "source": [
    "# Quick list of genres\n",
    "labels = [\"Comedies\", \"Histories\", \"Tragedies\"]\n",
    "\n",
    "# Get values from series\n",
    "blood = df.groupby(['genre'])['blood'].mean().tolist()\n",
    "sirrah = df.groupby(['genre'])['sirrah'].mean().tolist()\n",
    "\n",
    "# Label the points\n",
    "for i, label in enumerate(labels):\n",
    "    plt.annotate(label, (blood[i], sirrah[i]))\n",
    "\n",
    "# Generate the plot\n",
    "plt.scatter(blood, sirrah)\n",
    "\n",
    "# Label the axes\n",
    "plt.xlabel('Blood')\n",
    "plt.ylabel('Sirrah')\n",
    "plt.show()\n"
   ]
  },
  {
   "cell_type": "markdown",
   "metadata": {},
   "source": [
    "### Euclidean Distance\n",
    "\n",
    "The distance we all know: the distance between two points is the positive value of the difference of those two points. (Here we square then take the square root, but this could also be achieved through using the absolute value `| a - b |`.\n",
    "$$ d(a,b) = \\sqrt{\\sum_{i=1}^n (a_i - b_i)^2} $$"
   ]
  },
  {
   "cell_type": "code",
   "execution_count": 23,
   "metadata": {},
   "outputs": [],
   "source": [
    "# Euclidean Distance\n",
    "def euclid_distance(a,b):\n",
    "    return np.sqrt(np.sum((a-b)**2))"
   ]
  },
  {
   "cell_type": "code",
   "execution_count": 24,
   "metadata": {},
   "outputs": [
    {
     "name": "stdout",
     "output_type": "stream",
     "text": [
      "[9.88235294 4.11764706] [31.5  4.1] [25. 11.]\n"
     ]
    }
   ],
   "source": [
    "c = np.array([blood[0], sirrah[0]])\n",
    "h = np.array([blood[1], sirrah[1]])\n",
    "t = np.array([blood[2], sirrah[2]])\n",
    "print(c, h, t)"
   ]
  },
  {
   "cell_type": "code",
   "execution_count": 25,
   "metadata": {},
   "outputs": [
    {
     "name": "stdout",
     "output_type": "stream",
     "text": [
      "Comedies to Histories: 21.62\n",
      "Comedies to Tragedies: 16.61\n",
      "Tragedies to Histories: 9.48\n"
     ]
    }
   ],
   "source": [
    "ch = euclid_distance(c, h)\n",
    "print(f\"Comedies to Histories: {ch:.2f}\")\n",
    "\n",
    "ct = euclid_distance(c, t)\n",
    "print(f\"Comedies to Tragedies: {ct:.2f}\")\n",
    "\n",
    "th = euclid_distance(t, h)\n",
    "print(f\"Tragedies to Histories: {th:.2f}\")"
   ]
  },
  {
   "cell_type": "markdown",
   "metadata": {},
   "source": [
    "### Cosine Distance\n",
    "\n",
    "Euclidean distances are easy to understand but since they are dependent on the coordinates of the counts, they are sensitive to the length of documents. Such disparities in length might result in two similar texts being \"distant.\" Cosine distance is often preferred because it returns a value between 0 and 1, normalizing distances.\n",
    "\n",
    "$$ d_{cos}(a,b)= 1 - \\frac{a \\cdot b}{|a||b|}$$"
   ]
  },
  {
   "cell_type": "code",
   "execution_count": null,
   "metadata": {},
   "outputs": [],
   "source": [
    "hist = genremator(\"histories\")\n",
    "print(hist)"
   ]
  },
  {
   "cell_type": "code",
   "execution_count": 26,
   "metadata": {},
   "outputs": [],
   "source": [
    "def cos_distance (a, b):\n",
    "    \"\"\"Compute the cosine distance between two vectors\n",
    "    Requires: numpy as np\n",
    "    Arguments: numpy.ndarray (floats or integers)\n",
    "    Returns: cosine distance as float\n",
    "    Note: see also scipy.spatial.distance.cdist\"\"\"\n",
    "    # Calculate Vector Lengths\n",
    "    vl_a = np.sqrt(np.sum(a**2))\n",
    "    vl_b = np.sqrt(np.sum(b**2))\n",
    "    return 1 - np.dot(a, b) / (vl_a * vl_b)"
   ]
  },
  {
   "cell_type": "code",
   "execution_count": 27,
   "metadata": {},
   "outputs": [
    {
     "name": "stdout",
     "output_type": "stream",
     "text": [
      "Comedies to Histories: 0.04\n",
      "Comedies to Tragedies: 0.00\n",
      "Tragedies to Histories: 0.04\n"
     ]
    }
   ],
   "source": [
    "ch_cos = cos_distance(c, h)\n",
    "print(f\"Comedies to Histories: {ch_cos:.2f}\")\n",
    "\n",
    "ct_cos = cos_distance(c, t)\n",
    "print(f\"Comedies to Tragedies: {ct_cos:.2f}\")\n",
    "\n",
    "th_cos = cos_distance(t, h)\n",
    "print(f\"Tragedies to Histories: {th_cos:.2f}\")"
   ]
  },
  {
   "cell_type": "markdown",
   "metadata": {},
   "source": [
    "If we look at our graph, these results seem surprising: the comedies and histories are the furthest apart. This particular result is a product of our dimension reduction which has *sirrah* on the Y-axis. Since both comedies and histories are \"low\" on *sirrah*, they look the same. "
   ]
  },
  {
   "cell_type": "markdown",
   "metadata": {},
   "source": [
    "<div class=\"alert alert-block alert-warning\">\n",
    "<b>Your Turn</b>: Take a look at the words in the plays and see if you can find another word that, like <em>blood</em>, distinguishes the three genres.\n",
    "</div>"
   ]
  }
 ],
 "metadata": {
  "kernelspec": {
   "display_name": "Python 3 (ipykernel)",
   "language": "python",
   "name": "python3"
  },
  "language_info": {
   "codemirror_mode": {
    "name": "ipython",
    "version": 3
   },
   "file_extension": ".py",
   "mimetype": "text/x-python",
   "name": "python",
   "nbconvert_exporter": "python",
   "pygments_lexer": "ipython3",
   "version": "3.11.7"
  }
 },
 "nbformat": 4,
 "nbformat_minor": 4
}
